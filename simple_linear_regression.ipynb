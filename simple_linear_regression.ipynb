{
  "nbformat": 4,
  "nbformat_minor": 0,
  "metadata": {
    "colab": {
      "provenance": [],
      "authorship_tag": "ABX9TyO4MFY4CAyBmiGMjSfl62y0",
      "include_colab_link": true
    },
    "kernelspec": {
      "name": "python3",
      "display_name": "Python 3"
    },
    "language_info": {
      "name": "python"
    }
  },
  "cells": [
    {
      "cell_type": "markdown",
      "metadata": {
        "id": "view-in-github",
        "colab_type": "text"
      },
      "source": [
        "<a href=\"https://colab.research.google.com/github/DrSathishkumar/machinel_learning/blob/main/simple_linear_regression.ipynb\" target=\"_parent\"><img src=\"https://colab.research.google.com/assets/colab-badge.svg\" alt=\"Open In Colab\"/></a>"
      ]
    },
    {
      "cell_type": "code",
      "source": [
        "import pandas as pd\n",
        "import numpy as np\n",
        "import matplotlib.pyplot as plt\n",
        "import seaborn as sns"
      ],
      "metadata": {
        "id": "F6H4eRkhrqfm"
      },
      "execution_count": null,
      "outputs": []
    },
    {
      "cell_type": "code",
      "source": [
        "flights = sns.load_dataset(\"flights\")"
      ],
      "metadata": {
        "id": "U9uF-t1Txc6w"
      },
      "execution_count": null,
      "outputs": []
    },
    {
      "cell_type": "code",
      "source": [
        "flights.head()\n",
        "flights.info()\n",
        "flights.shape"
      ],
      "metadata": {
        "id": "Z7N07L3fx-XW"
      },
      "execution_count": null,
      "outputs": []
    },
    {
      "cell_type": "code",
      "source": [
        "flights.describe()"
      ],
      "metadata": {
        "id": "DrjpN0ryyCXM"
      },
      "execution_count": null,
      "outputs": []
    },
    {
      "cell_type": "code",
      "source": [
        "flights.plot(kind = \"box\")\n",
        "plt.show"
      ],
      "metadata": {
        "id": "GW5ZnpVOzWyH"
      },
      "execution_count": null,
      "outputs": []
    },
    {
      "cell_type": "code",
      "source": [
        "sns.scatterplot(x = \"year\", y = \"passengers\", data = flights)\n",
        "plt.show()"
      ],
      "metadata": {
        "id": "AHtMrbHE0dKg"
      },
      "execution_count": null,
      "outputs": []
    },
    {
      "cell_type": "code",
      "source": [
        "from sklearn.model_selection import train_test_split\n"
      ],
      "metadata": {
        "id": "f6xsG0TU60Zj"
      },
      "execution_count": null,
      "outputs": []
    },
    {
      "cell_type": "code",
      "source": [
        "x = flights[\"year\"].values.reshape(-1,1)\n",
        "y = flights[\"passengers\"]"
      ],
      "metadata": {
        "id": "ibXBkas073la"
      },
      "execution_count": null,
      "outputs": []
    },
    {
      "cell_type": "code",
      "source": [
        "xtrain, xtest, ytrain, ytest = train_test_split(x, y,test_size = 0.3, random_state= 20)\n"
      ],
      "metadata": {
        "id": "RloLsGEa7IjI"
      },
      "execution_count": null,
      "outputs": []
    },
    {
      "cell_type": "code",
      "source": [
        "xtrain"
      ],
      "metadata": {
        "id": "LuRWV8E37x8n"
      },
      "execution_count": null,
      "outputs": []
    },
    {
      "cell_type": "code",
      "source": [
        "from sklearn.linear_model import LinearRegression\n",
        "model = LinearRegression()"
      ],
      "metadata": {
        "id": "dndjZmgE9m4t"
      },
      "execution_count": null,
      "outputs": []
    },
    {
      "cell_type": "code",
      "source": [
        "lr = LinearRegression()\n",
        "lr.fit(xtrain, ytrain)"
      ],
      "metadata": {
        "id": "dP-BDqyz-Hpo"
      },
      "execution_count": null,
      "outputs": []
    },
    {
      "cell_type": "code",
      "source": [
        "ypred = lr.predict(xtest)\n"
      ],
      "metadata": {
        "id": "TSytTKGxBXwE"
      },
      "execution_count": null,
      "outputs": []
    },
    {
      "cell_type": "code",
      "source": [
        "plt.scatter(xtest, ytest, color = \"blue\")\n",
        "plt.plot(xtest, ypred, color = \"red\")\n",
        "plt.show()"
      ],
      "metadata": {
        "id": "1ywKn4z7Bgxl"
      },
      "execution_count": null,
      "outputs": []
    }
  ]
}